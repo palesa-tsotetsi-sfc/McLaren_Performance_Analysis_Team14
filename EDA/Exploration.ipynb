{
 "cells": [
  {
   "cell_type": "code",
   "execution_count": 1,
   "id": "664a8047",
   "metadata": {},
   "outputs": [
    {
     "name": "stdout",
     "output_type": "stream",
     "text": [
      "Import Done\n"
     ]
    }
   ],
   "source": [
    "#Winning Factor \n",
    "import pandas as pd\n",
    "import numpy as np\n",
    "import seaborn as sns\n",
    "import matplotlib.pyplot as plt\n",
    "# ML\n",
    "from sklearn.ensemble import RandomForestClassifier\n",
    "from sklearn.model_selection import train_test_split\n",
    "from sklearn.metrics import classification_report, confusion_matrix\n",
    "\n",
    "print('Import Done')\n"
   ]
  },
  {
   "cell_type": "code",
   "execution_count": 21,
   "id": "91606e12",
   "metadata": {},
   "outputs": [
    {
     "name": "stdout",
     "output_type": "stream",
     "text": [
      "Load Done\n"
     ]
    }
   ],
   "source": [
    "# drivers = pd.read_csv(r\"C:\\Development\\workspace\\SideQuests\\Repo\\McLaren_Performance_Analysis_Team14\\Raw Data\\DRIVERS.csv\")\n",
    "results = pd.read_csv(r\"C:\\Development\\workspace\\SideQuests\\Repo\\McLaren_Performance_Analysis_Team14\\Raw Data\\RESULTS.csv\")\n",
    "races = pd.read_csv(r\"C:\\Development\\workspace\\SideQuests\\Repo\\McLaren_Performance_Analysis_Team14\\Raw Data\\RACES.csv\")\n",
    "constructors = pd.read_csv(r\"C:\\Development\\workspace\\SideQuests\\Repo\\McLaren_Performance_Analysis_Team14\\Raw Data\\CONSTRUCTORS.csv\")\n",
    "qualifying = pd.read_csv(r\"C:\\Development\\workspace\\SideQuests\\Repo\\McLaren_Performance_Analysis_Team14\\Raw Data\\QUALIFYING.csv\")\n",
    "status = pd.read_csv(r\"C:\\Development\\workspace\\SideQuests\\Repo\\McLaren_Performance_Analysis_Team14\\Raw Data\\STATUS.csv\")\n",
    "pit_stops = pd.read_csv(r\"C:\\Development\\workspace\\SideQuests\\Repo\\McLaren_Performance_Analysis_Team14\\Raw Data\\PIT_STOPS.csv\")\n",
    "lap_times = pd.read_csv(r\"C:\\Development\\workspace\\SideQuests\\Repo\\McLaren_Performance_Analysis_Team14\\Raw Data\\LAP_TIMES.csv\")\n",
    "\n",
    "print('Load Done')"
   ]
  },
  {
   "cell_type": "code",
   "execution_count": 24,
   "id": "99499703",
   "metadata": {},
   "outputs": [
    {
     "ename": "KeyError",
     "evalue": "'CONSTRUCTORID'",
     "output_type": "error",
     "traceback": [
      "\u001b[31m---------------------------------------------------------------------------\u001b[39m",
      "\u001b[31mKeyError\u001b[39m                                  Traceback (most recent call last)",
      "\u001b[32m~\\AppData\\Local\\Temp\\ipykernel_40184\\854290839.py\u001b[39m in \u001b[36m?\u001b[39m\u001b[34m()\u001b[39m\n\u001b[32m      1\u001b[39m \u001b[38;5;66;03m# Filter for Mercedes\u001b[39;00m\n\u001b[32m----> \u001b[39m\u001b[32m2\u001b[39m results_merged = results.merge(constructors, on=\u001b[33m\"CONSTRUCTORID\"\u001b[39m)\n\u001b[32m      3\u001b[39m mercedes_data = results_merged[results_merged[\u001b[33m\"NAME_y\"\u001b[39m] == \u001b[33m\"Mercedes\"\u001b[39m]\n\u001b[32m      4\u001b[39m \n\u001b[32m      5\u001b[39m \u001b[38;5;66;03m# Join race details\u001b[39;00m\n",
      "\u001b[32mc:\\Development\\workspace\\SideQuests\\Repo\\McLaren_Performance_Analysis_Team14\\datathon\\Lib\\site-packages\\pandas\\core\\frame.py\u001b[39m in \u001b[36m?\u001b[39m\u001b[34m(self, right, how, on, left_on, right_on, left_index, right_index, sort, suffixes, copy, indicator, validate)\u001b[39m\n\u001b[32m  10835\u001b[39m         validate: MergeValidate | \u001b[38;5;28;01mNone\u001b[39;00m = \u001b[38;5;28;01mNone\u001b[39;00m,\n\u001b[32m  10836\u001b[39m     ) -> DataFrame:\n\u001b[32m  10837\u001b[39m         \u001b[38;5;28;01mfrom\u001b[39;00m pandas.core.reshape.merge \u001b[38;5;28;01mimport\u001b[39;00m merge\n\u001b[32m  10838\u001b[39m \n\u001b[32m> \u001b[39m\u001b[32m10839\u001b[39m         return merge(\n\u001b[32m  10840\u001b[39m             self,\n\u001b[32m  10841\u001b[39m             right,\n\u001b[32m  10842\u001b[39m             how=how,\n",
      "\u001b[32mc:\\Development\\workspace\\SideQuests\\Repo\\McLaren_Performance_Analysis_Team14\\datathon\\Lib\\site-packages\\pandas\\core\\reshape\\merge.py\u001b[39m in \u001b[36m?\u001b[39m\u001b[34m(left, right, how, on, left_on, right_on, left_index, right_index, sort, suffixes, copy, indicator, validate)\u001b[39m\n\u001b[32m    166\u001b[39m             validate=validate,\n\u001b[32m    167\u001b[39m             copy=copy,\n\u001b[32m    168\u001b[39m         )\n\u001b[32m    169\u001b[39m     \u001b[38;5;28;01melse\u001b[39;00m:\n\u001b[32m--> \u001b[39m\u001b[32m170\u001b[39m         op = _MergeOperation(\n\u001b[32m    171\u001b[39m             left_df,\n\u001b[32m    172\u001b[39m             right_df,\n\u001b[32m    173\u001b[39m             how=how,\n",
      "\u001b[32mc:\\Development\\workspace\\SideQuests\\Repo\\McLaren_Performance_Analysis_Team14\\datathon\\Lib\\site-packages\\pandas\\core\\reshape\\merge.py\u001b[39m in \u001b[36m?\u001b[39m\u001b[34m(self, left, right, how, on, left_on, right_on, left_index, right_index, sort, suffixes, indicator, validate)\u001b[39m\n\u001b[32m    790\u001b[39m             self.right_join_keys,\n\u001b[32m    791\u001b[39m             self.join_names,\n\u001b[32m    792\u001b[39m             left_drop,\n\u001b[32m    793\u001b[39m             right_drop,\n\u001b[32m--> \u001b[39m\u001b[32m794\u001b[39m         ) = self._get_merge_keys()\n\u001b[32m    795\u001b[39m \n\u001b[32m    796\u001b[39m         \u001b[38;5;28;01mif\u001b[39;00m left_drop:\n\u001b[32m    797\u001b[39m             self.left = self.left._drop_labels_or_levels(left_drop)\n",
      "\u001b[32mc:\\Development\\workspace\\SideQuests\\Repo\\McLaren_Performance_Analysis_Team14\\datathon\\Lib\\site-packages\\pandas\\core\\reshape\\merge.py\u001b[39m in \u001b[36m?\u001b[39m\u001b[34m(self)\u001b[39m\n\u001b[32m   1306\u001b[39m                     \u001b[38;5;28;01mif\u001b[39;00m lk \u001b[38;5;28;01mis\u001b[39;00m \u001b[38;5;28;01mnot\u001b[39;00m \u001b[38;5;28;01mNone\u001b[39;00m:\n\u001b[32m   1307\u001b[39m                         \u001b[38;5;66;03m# Then we're either Hashable or a wrong-length arraylike,\u001b[39;00m\n\u001b[32m   1308\u001b[39m                         \u001b[38;5;66;03m#  the latter of which will raise\u001b[39;00m\n\u001b[32m   1309\u001b[39m                         lk = cast(Hashable, lk)\n\u001b[32m-> \u001b[39m\u001b[32m1310\u001b[39m                         left_keys.append(left._get_label_or_level_values(lk))\n\u001b[32m   1311\u001b[39m                         join_names.append(lk)\n\u001b[32m   1312\u001b[39m                     \u001b[38;5;28;01melse\u001b[39;00m:\n\u001b[32m   1313\u001b[39m                         \u001b[38;5;66;03m# work-around for merge_asof(left_index=True)\u001b[39;00m\n",
      "\u001b[32mc:\\Development\\workspace\\SideQuests\\Repo\\McLaren_Performance_Analysis_Team14\\datathon\\Lib\\site-packages\\pandas\\core\\generic.py\u001b[39m in \u001b[36m?\u001b[39m\u001b[34m(self, key, axis)\u001b[39m\n\u001b[32m   1907\u001b[39m             values = self.xs(key, axis=other_axes[\u001b[32m0\u001b[39m])._values\n\u001b[32m   1908\u001b[39m         \u001b[38;5;28;01melif\u001b[39;00m self._is_level_reference(key, axis=axis):\n\u001b[32m   1909\u001b[39m             values = self.axes[axis].get_level_values(key)._values\n\u001b[32m   1910\u001b[39m         \u001b[38;5;28;01melse\u001b[39;00m:\n\u001b[32m-> \u001b[39m\u001b[32m1911\u001b[39m             \u001b[38;5;28;01mraise\u001b[39;00m KeyError(key)\n\u001b[32m   1912\u001b[39m \n\u001b[32m   1913\u001b[39m         \u001b[38;5;66;03m# Check for duplicates\u001b[39;00m\n\u001b[32m   1914\u001b[39m         \u001b[38;5;28;01mif\u001b[39;00m values.ndim > \u001b[32m1\u001b[39m:\n",
      "\u001b[31mKeyError\u001b[39m: 'CONSTRUCTORID'"
     ]
    }
   ],
   "source": [
    "# Filter for Mercedes\n",
    "results_merged = results.merge(constructors, on=\"CONSTRUCTORID\")\n",
    "mercedes_data = results_merged[results_merged[\"NAME_y\"] == \"Mercedes\"]\n",
    "\n",
    "# Join race details\n",
    "# mercedes_data = mercedes_data.merge(races, on=\"RACEID\", suffixes=(\"\", \"_race\"))\n",
    "\n",
    "# # Merge qualifying times\n",
    "# mercedes_data = mercedes_data.merge(qualifying, on=[\"RACEID\", \"DRIVERID\"], how=\"left\")\n",
    "\n",
    "# # Drop unnecessary columns and handle missing\n",
    "# mercedes_data = mercedes_data.dropna(subset=[\"Q1\", \"Q2\", \"Q3\"])\n"
   ]
  }
 ],
 "metadata": {
  "kernelspec": {
   "display_name": "datathon",
   "language": "python",
   "name": "python3"
  },
  "language_info": {
   "codemirror_mode": {
    "name": "ipython",
    "version": 3
   },
   "file_extension": ".py",
   "mimetype": "text/x-python",
   "name": "python",
   "nbconvert_exporter": "python",
   "pygments_lexer": "ipython3",
   "version": "3.12.7"
  }
 },
 "nbformat": 4,
 "nbformat_minor": 5
}
